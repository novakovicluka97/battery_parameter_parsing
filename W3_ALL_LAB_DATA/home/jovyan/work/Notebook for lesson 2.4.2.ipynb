{
 "cells": [
  {
   "cell_type": "markdown",
   "metadata": {},
   "source": [
    "### Jupyter notebook for practice quiz for lesson 2.4.2\n",
    "This Jupyter notebook implements a constant-power/constant-voltage charging scenario, as taught in this lesson"
   ]
  },
  {
   "cell_type": "code",
   "execution_count": 14,
   "metadata": {},
   "outputs": [],
   "source": [
    "% add the toolbox code to Octave's path\n",
    "addpath readonly\n",
    "load readonly/E1model.mat; "
   ]
  },
  {
   "cell_type": "code",
   "execution_count": 15,
   "metadata": {},
   "outputs": [
    {
     "data": {
      "image/png": "[encoded data removed]",
      "text/plain": [
       "<IPython.core.display.Image object>"
      ]
     },
     "metadata": {},
     "output_type": "display_data"
    }
   ],
   "source": [
    "% Get ESC model parameters\n",
    "maxtime = 3001; T = 25; % Simulation run time, temperature\n",
    "q  = getParamESC('QParam',T,model); \n",
    "rc = exp(-1./abs(getParamESC('RCParam',T,model)));\n",
    "r  = (getParamESC('RParam',T,model));\n",
    "m  = getParamESC('MParam',T,model);\n",
    "g  = getParamESC('GParam',T,model);\n",
    "r0 = getParamESC('R0Param',T,model);\n",
    "maxV = 4.2; % maximum cell voltage of 4.15 V\n",
    "\n",
    "storez = zeros([maxtime 1]);  % create storage for SOC\n",
    "storev = zeros([maxtime 1]);  % create storage for voltage\n",
    "storei = zeros([maxtime 1]);  % create storage for current\n",
    "storep = zeros([maxtime 1]);  % create storage for power\n",
    "z  = 0.5; irc = 0; h  = -1; % initialize to 50% SOC, resting\n",
    "\n",
    "% Simulate CP/CV\n",
    "z  = 0.5; irc = 0; h  = -1; % initialize to 50% SOC, resting\n",
    "CP = 40; % constant power limit of 35 W in CP/CV charge\n",
    "\n",
    "for k = 1:maxtime,\n",
    "  v = OCVfromSOCtemp(z,T,model) + m*h - r*irc; % fixed voltage\n",
    "\n",
    "  % try CP first\n",
    "  ik = (v - sqrt(v^2 - 4*r0*(-CP)))/(2*r0);\n",
    "  if v - ik*r0 > maxV, % too much!\n",
    "    ik = (v - maxV)/r0; % do CV instead\n",
    "  end\n",
    "\n",
    "  z = z - (1/3600)*ik/q;  % Update cell SOC\n",
    "  irc = rc*irc + (1-rc)*ik; % Update resistor currents\n",
    "  fac = exp(-abs(g.*ik)./(3600*q));\n",
    "  h = fac.*h + (fac-1).*sign(ik); % Update hysteresis voltages\n",
    "  storez(k) = z; % Store SOC for later plotting\n",
    "  storev(k) = v - ik*r0;\n",
    "  storei(k) = ik; % store current for later plotting\n",
    "  storep(k) = ik*storev(k);\n",
    "end % for k\n",
    "\n",
    "time = 0:maxtime -1;\n",
    "subplot(2,2,1); plot(time,100*storez); \n",
    "title('State of charge versus time');\n",
    "xlabel('Time (s)'); ylabel('SOC (%)'); ylim([49 101]); grid on\n",
    "\n",
    "subplot(2,2,2); plot(time,storev); \n",
    "title('Terminal voltage versus time');\n",
    "xlabel('Time (s)'); ylabel('Voltage (V)');\n",
    "ylim([3.94 4.21]); grid on\n",
    "\n",
    "subplot(2,2,3); plot(time,storei); \n",
    "title('Cell current versus time');\n",
    "xlabel('Time (s)'); ylabel('Current (A)');\n",
    "ylim([-10 0.3]); grid on\n",
    "\n",
    "subplot(2,2,4); plot(time,storep);\n",
    "title('Cell power versus time');\n",
    "xlabel('Time (s)'); ylabel('Power (W)');\n",
    "ylim([-40 1]); grid on"
   ]
  },
  {
   "cell_type": "code",
   "execution_count": 16,
   "metadata": {},
   "outputs": [
    {
     "name": "stdout",
     "output_type": "stream",
     "text": [
      "ans =  1277\n"
     ]
    }
   ],
   "source": [
    "% Find the point in time where the charging profile transfers from CC to CV\n",
    "time(find(storev == 4.2,1))\n"
   ]
  },
  {
   "cell_type": "code",
   "execution_count": 19,
   "metadata": {},
   "outputs": [
    {
     "name": "stdout",
     "output_type": "stream",
     "text": [
      "ans = -10.127\n"
     ]
    }
   ],
   "source": [
    "min(storei)"
   ]
  },
  {
   "cell_type": "code",
   "execution_count": null,
   "metadata": {},
   "outputs": [],
   "source": []
  }
 ],
 "metadata": {
  "kernelspec": {
   "display_name": "Octave",
   "language": "octave",
   "name": "octave"
  },
  "language_info": {
   "file_extension": ".m",
   "help_links": [
    {
     "text": "GNU Octave",
     "url": "https://www.gnu.org/software/octave/support.html"
    },
    {
     "text": "Octave Kernel",
     "url": "https://github.com/Calysto/octave_kernel"
    },
    {
     "text": "MetaKernel Magics",
     "url": "https://github.com/calysto/metakernel/blob/master/metakernel/magics/README.md"
    }
   ],
   "mimetype": "text/x-octave",
   "name": "octave",
   "version": "4.2.2"
  }
 },
 "nbformat": 4,
 "nbformat_minor": 1
}
