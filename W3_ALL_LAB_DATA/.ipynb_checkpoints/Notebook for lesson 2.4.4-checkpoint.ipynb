{
 "cells": [
  {
   "cell_type": "markdown",
   "metadata": {},
   "source": [
    "### Jupyter notebook for practice quiz for lesson 2.4.4\n",
    "This Jupyter notebook simulates a battery pack comprising parallel cell modules (PCMs)"
   ]
  },
  {
   "cell_type": "code",
   "execution_count": null,
   "metadata": {},
   "outputs": [],
   "source": [
    "% add the toolbox code to Octave's path\n",
    "addpath readonly\n",
    "load readonly/E2model.mat;"
   ]
  },
  {
   "cell_type": "code",
   "execution_count": null,
   "metadata": {},
   "outputs": [],
   "source": [
    "% simPCM: Simulate parallel-connected-module packs (cells are connected in\n",
    "% parallel to make modules; these modules are connected in series to make\n",
    "% packs).\n",
    "% The parameters for each cell may be different\n",
    "\n",
    "% Initialize some pack configuration parameters...\n",
    "Ns = 3;       % Number of modules connected in series to make a pack\n",
    "Np = 3;       % Number of cells connected in parallel in each module\n",
    "\n",
    "% Initialize some simulation configuration parameters...\n",
    "maxtime = 3600; % Simulation run time in simulated seconds\n",
    "t0 = 2700; % Pack rests after time t0\n",
    "storez = zeros([maxtime Ns Np]);  % create storage for SOC\n",
    "storei = zeros([maxtime Ns Np]);  % create storage for current\n",
    "\n",
    "% Initialize states for ESC cell model\n",
    "z   = 0.25*ones(Ns,Np);\n",
    "irc = zeros(Ns,Np);\n",
    "h   = zeros(Ns,Np);\n",
    "\n",
    "% Default initialization for cells within the pack\n",
    "T  = 25; % Temperature\n",
    "q  = getParamESC('QParam',T,model)*ones(Ns,Np); \n",
    "rc = exp(-1./abs(getParamESC('RCParam',T,model)))'*ones(Ns,Np);\n",
    "r  = (getParamESC('RParam',T,model))';\n",
    "% In the following line, I set the hysteresis magnitudes to zero to make\n",
    "% it easier to understand results. I assume this value of zero for the\n",
    "% practice quiz questions. After completing the practice quiz, you can \n",
    "% use the nonzero values and see how it changes simulation results!\n",
    "m  = 0*getParamESC('MParam',T,model)*ones(Ns,Np);\n",
    "g  = getParamESC('GParam',T,model)*ones(Ns,Np);\n",
    "r0 = getParamESC('R0Param',T,model)*ones(Ns,Np); \n",
    "rt = 0.000125; % 125 microOhm resistance for each tab\n",
    "\n",
    "% =====================================================================\n",
    "% MODIFY THIS SECTION WHEN ANSWERING THE PRACTICE QUIZ\n",
    "\n",
    "% Modified initialization for cell variability\n",
    "if 1, % set to \"if 1,\" to execute, or \"if 0,\" to skip this code\n",
    "  z = reshape(linspace(0.3,0.8,Ns*Np),Ns,Np); % Different initial SOCs\n",
    "end\n",
    "\n",
    "if 1, % set to \"if 1,\" to execute, or \"if 0,\" to skip this code\n",
    "  q = reshape(linspace(4.5,5.5,Ns*Np),Ns,Np); % Different capacities\n",
    "end\n",
    "\n",
    "if 1, % set to \"if 1,\" to execute, or \"if 0,\" to skip this code\n",
    "  r0 = reshape(linspace(0.005,0.025,Ns*Np),Ns,Np); % Different R0 values\n",
    "end\n",
    "r0 = r0 + 2*rt; % add tab resistance to cell resistance\n",
    "\n",
    "% END OF MODIFY SECTION\n",
    "% =====================================================================\n",
    "\n",
    "% Add faults to pack: cells faulted open- and short-circuit\n",
    "% To delete a PCM (open-circuit fault), set a resistance to Inf\n",
    "%r0(1,1) = Inf; % for example...\n",
    "\n",
    "% To delete a cell from a PCM (short-circuit fault), set its SOC to NaN\n",
    "%z(1,2) = NaN; % for example, delete cell 2 in PCM 1 \n",
    "Rsc = 0.0025; % Resistance value to use for cell whose SOC < 0%\n",
    "\n",
    "% ------------------------------------------------------------------------\n",
    "% Get ready to simulate... first compute pack capacity in Ah\n",
    "totalCap = min(sum(q,2)); % pack capacity = minimum module capacity\n",
    "I = 10*totalCap; % cycle at 10C... not realistic, faster simulation\n",
    "\n",
    "% Okay... now to simulate pack performance using ESC cell model.\n",
    "for k = 1:maxtime,\n",
    "  v = OCVfromSOCtemp(z,T,model); % get OCV for each cell: Ns * Np matrix\n",
    "  v = v + m.*h - r.*irc; % add in capacitor voltages and hysteresis\n",
    "  r0(isnan(z)) = Rsc; % short-circuit fault has \"short-circuit\" resistance\n",
    "  V = (sum(v./r0,2) - I)./sum(1./r0,2);\n",
    "  ik = (v-repmat(V,1,Np))./r0;\n",
    "  z = z - (1/3600)*ik./q;  % Update each cell SOC\n",
    "  z(z<0) = NaN; % set over-discharged cells to short-circuit fault\n",
    "  irc = rc.*irc + (1-rc).*ik; % Update capacitor voltages\n",
    "  fac = exp(-abs(g.*ik)./(3600*q));\n",
    "  h = fac.*h + (fac-1).*sign(ik); % Update hysteresis voltages\n",
    "  minz = min(z(:)); maxz = max(z(:)); % Check to see if SOC limit hit\n",
    "  if minz < 0.05, I = -abs(I); end % stop discharging\n",
    "  if maxz > 0.95, I = abs(I);  end % stop charging\n",
    "  if k>t0, I = 0; end % rest \n",
    "  storez(k,:,:) = z; % Store SOC for later plotting\n",
    "  storei(k,:,:) = ik; % store current for later plotting\n",
    "end % for k\n",
    "fprintf('Finished executing simulation. Ready to produce plots!\\n')"
   ]
  },
  {
   "cell_type": "code",
   "execution_count": null,
   "metadata": {},
   "outputs": [],
   "source": [
    "% Plot the individual SOC vs. time for all cells in all \n",
    "% series PCMs. There is one subplot for each PCM.\n",
    "t = (0:(length(storez(:,:,1))-1))/60; \n",
    "xplots = round(1.0*ceil(sqrt(Ns))); yplots = ceil(Ns/xplots); means = [];\n",
    "for k = 1:Ns,\n",
    "  zr=squeeze(100*storez(:,k,:));\n",
    "  subplot(yplots,xplots,k); plot(t,zr); axis([0 ceil(maxtime/60) 0 100]);\n",
    "  title(sprintf('Cells in PCM %d',k)); \n",
    "  ylabel('SOC (%)'); xlabel('Time (min)'); \n",
    "end"
   ]
  },
  {
   "cell_type": "code",
   "execution_count": null,
   "metadata": {},
   "outputs": [],
   "source": [
    "% Plot the individual cell current vs. time for all cells in \n",
    "% all series PCMs. There is one subplot for each PCM.\n",
    "t = (0:(length(storei(:,:,1))-1))/60; \n",
    "for k = 1:Ns,\n",
    "  zr=squeeze(storei(:,k,:));\n",
    "  subplot(yplots,xplots,k); plot(t,zr); \n",
    "  axis([0 ceil(maxtime/60) -101 101]);\n",
    "  title(sprintf('Cells in PCM %d',k)); \n",
    "  ylabel('Current (A)'); xlabel('Time (min)'); \n",
    "end"
   ]
  }
 ],
 "metadata": {
  "kernelspec": {
   "display_name": "Octave",
   "language": "octave",
   "name": "octave"
  },
  "language_info": {
   "file_extension": ".m",
   "help_links": [
    {
     "text": "GNU Octave",
     "url": "https://www.gnu.org/software/octave/support.html"
    },
    {
     "text": "Octave Kernel",
     "url": "https://github.com/Calysto/octave_kernel"
    },
    {
     "text": "MetaKernel Magics",
     "url": "https://github.com/calysto/metakernel/blob/master/metakernel/magics/README.md"
    }
   ],
   "mimetype": "text/x-octave",
   "name": "octave",
   "version": "4.2.2"
  }
 },
 "nbformat": 4,
 "nbformat_minor": 1
}
